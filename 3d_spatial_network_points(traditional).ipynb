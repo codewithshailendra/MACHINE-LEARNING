{
 "cells": [
  {
   "cell_type": "code",
   "execution_count": 64,
   "metadata": {},
   "outputs": [],
   "source": [
    "import pandas as pd\n",
    "import numpy as np\n",
    "import matplotlib.pyplot as plt\n",
    "import timeit"
   ]
  },
  {
   "cell_type": "code",
   "execution_count": 19,
   "metadata": {},
   "outputs": [],
   "source": [
    "x=pd.read_csv(\"Desktop/3D_spatial_network.csv\")"
   ]
  },
  {
   "cell_type": "code",
   "execution_count": 20,
   "metadata": {},
   "outputs": [
    {
     "name": "stdout",
     "output_type": "stream",
     "text": [
      "(434873, 4)\n"
     ]
    }
   ],
   "source": [
    "print(x.shape)\n",
    "x=x.values"
   ]
  },
  {
   "cell_type": "code",
   "execution_count": 21,
   "metadata": {},
   "outputs": [
    {
     "data": {
      "image/png": "[encoded data removed]",
      "text/plain": [
       "<matplotlib.figure.Figure at 0x10e91b50>"
      ]
     },
     "metadata": {},
     "output_type": "display_data"
    }
   ],
   "source": [
    "plt.scatter(x[:,1],x[:,2])\n",
    "plt.grid(True)\n",
    "plt.show()"
   ]
  },
  {
   "cell_type": "code",
   "execution_count": 129,
   "metadata": {},
   "outputs": [],
   "source": [
    "k=5\n",
    "\n",
    "colors=['red','green','blue','yellow','pink']\n",
    "clusters={}\n",
    "\n",
    "for i in range(k):\n",
    "    center=10.5+2*(np.random.random((x.shape[1],))-1)\n",
    "    points=[]\n",
    "    \n",
    "    cluster={\n",
    "        'center':center,\n",
    "        'color':colors[i],\n",
    "        'points':points\n",
    "        \n",
    "    }\n",
    "    \n",
    "    clusters[i]=cluster\n",
    "    "
   ]
  },
  {
   "cell_type": "code",
   "execution_count": 130,
   "metadata": {},
   "outputs": [
    {
     "name": "stdout",
     "output_type": "stream",
     "text": [
      "{'center': array([8.80086317, 9.14637574, 9.97015257, 9.9696419 ]), 'color': 'red', 'points': []}\n",
      "{'center': array([9.13006051, 8.55719601, 9.81263309, 9.18758603]), 'color': 'green', 'points': []}\n",
      "{'center': array([8.86110148, 9.34316346, 8.78914471, 9.71033723]), 'color': 'blue', 'points': []}\n",
      "{'center': array([8.76796566, 9.97959862, 9.80557709, 9.3261324 ]), 'color': 'yellow', 'points': []}\n",
      "{'center': array([ 8.89471892, 10.37237008, 10.38392013,  9.82516999]), 'color': 'pink', 'points': []}\n"
     ]
    }
   ],
   "source": [
    "for i in range(len(clusters)):\n",
    "    print(clusters[i])"
   ]
  },
  {
   "cell_type": "code",
   "execution_count": 131,
   "metadata": {},
   "outputs": [],
   "source": [
    "def distance(v1,v2):\n",
    "    return np.sqrt(np.sum((v1-v2)**2))"
   ]
  },
  {
   "cell_type": "code",
   "execution_count": 132,
   "metadata": {},
   "outputs": [
    {
     "name": "stdout",
     "output_type": "stream",
     "text": [
      "0.4686955574881966\n",
      "{'center': array([ 8.80086317,  9.14637574, 56.6       ,  9.9696419 ]), 'color': 'red', 'points': []}\n",
      "{'center': array([ 9.13006051,  8.55719601, 56.9       ,  9.18758603]), 'color': 'green', 'points': []}\n",
      "{'center': array([ 8.86110148,  9.34316346, 57.2       ,  9.71033723]), 'color': 'blue', 'points': []}\n",
      "{'center': array([ 8.76796566,  9.97959862, 57.5       ,  9.3261324 ]), 'color': 'yellow', 'points': []}\n",
      "{'center': array([ 8.89471892, 10.37237008, 57.8       ,  9.82516999]), 'color': 'pink', 'points': []}\n"
     ]
    }
   ],
   "source": [
    "print(distance(x[0],x[1]))\n",
    "\n",
    "for kx in range(k):\n",
    "    clusters[kx]['center'][2] = 56.6+0.3*kx\n",
    "    \n",
    "for i in range(len(clusters)):\n",
    "    print(clusters[i])    \n",
    "    "
   ]
  },
  {
   "cell_type": "code",
   "execution_count": 133,
   "metadata": {},
   "outputs": [],
   "source": [
    "def assign_points_to_clusters(clusters):\n",
    "    for i in range(x.shape[0]):\n",
    "        dist=[]\n",
    "        current_point=x[i]\n",
    "    \n",
    "        for kx in range(k):\n",
    "            distance_of_this_point_from_this_cluster_center=distance(current_point[1:3],clusters[kx]['center'][1:3])\n",
    "            dist.append(distance_of_this_point_from_this_cluster_center)\n",
    "        current_cluster=np.argmin(dist)\n",
    "        clusters[current_cluster]['points'].append(current_point)"
   ]
  },
  {
   "cell_type": "code",
   "execution_count": 134,
   "metadata": {},
   "outputs": [],
   "source": [
    "def plot_clusters(clusters):\n",
    "    \n",
    "    for kx in range(k):\n",
    "        pts=np.array(clusters[kx]['points'])\n",
    "        \n",
    "        # plot the points\n",
    "        try:\n",
    "            plt.scatter(pts[:,1],pts[:,2],color=clusters[kx]['color'])\n",
    "        except:\n",
    "            pass\n",
    "    \n",
    "        # plot the center of the clusters\n",
    "        uk=clusters[kx]['center']\n",
    "        plt.scatter(uk[1],uk[2],color=\"black\",marker=\"*\")\n",
    "    "
   ]
  },
  {
   "cell_type": "code",
   "execution_count": 140,
   "metadata": {},
   "outputs": [],
   "source": [
    "def update_clusters(clusters):\n",
    "    for kx in range(k):\n",
    "        pts=np.array(clusters[kx]['points'])\n",
    "        \n",
    "        if pts.shape[0]>0:\n",
    "            new_center=pts.mean(axis=0)\n",
    "            #print(new_center.shape)\n",
    "            clusters[kx]['center']=new_center\n",
    "            clusters[kx]['points']=[]\n",
    "            \n",
    "            \n",
    "        "
   ]
  },
  {
   "cell_type": "code",
   "execution_count": 136,
   "metadata": {},
   "outputs": [
    {
     "data": {
      "image/png": "[encoded data removed]",
      "text/plain": [
       "<matplotlib.figure.Figure at 0x1590fbf0>"
      ]
     },
     "metadata": {},
     "output_type": "display_data"
    }
   ],
   "source": [
    "assign_points_to_clusters(clusters)\n",
    "plot_clusters(clusters)"
   ]
  },
  {
   "cell_type": "code",
   "execution_count": 137,
   "metadata": {},
   "outputs": [
    {
     "name": "stdout",
     "output_type": "stream",
     "text": [
      "55181\n",
      "62750\n",
      "77176\n",
      "178759\n",
      "61007\n"
     ]
    }
   ],
   "source": [
    "for i in range(k):\n",
    "    print(len(clusters[i]['points']))"
   ]
  },
  {
   "cell_type": "code",
   "execution_count": 138,
   "metadata": {},
   "outputs": [
    {
     "name": "stdout",
     "output_type": "stream",
     "text": [
      "(4,)\n",
      "(4,)\n",
      "(4,)\n",
      "(4,)\n",
      "(4,)\n"
     ]
    }
   ],
   "source": [
    "#assign_points_to_clusters(clusters)\n",
    "#plot_clusters(clusters)\n",
    "update_clusters(clusters)"
   ]
  },
  {
   "cell_type": "code",
   "execution_count": 139,
   "metadata": {},
   "outputs": [
    {
     "name": "stdout",
     "output_type": "stream",
     "text": [
      "(4,)\n",
      "(4,)\n",
      "(4,)\n",
      "(4,)\n",
      "(4,)\n",
      "Time:  38.882008493827016\n"
     ]
    },
    {
     "data": {
      "image/png": "[encoded data removed]",
      "text/plain": [
       "<matplotlib.figure.Figure at 0x10da9830>"
      ]
     },
     "metadata": {},
     "output_type": "display_data"
    }
   ],
   "source": [
    "start = timeit.default_timer()\n",
    "assign_points_to_clusters(clusters)\n",
    "plot_clusters(clusters)\n",
    "update_clusters(clusters)\n",
    "stop = timeit.default_timer()\n",
    "print('Time: ', stop - start) "
   ]
  },
  {
   "cell_type": "code",
   "execution_count": 141,
   "metadata": {},
   "outputs": [
    {
     "name": "stdout",
     "output_type": "stream",
     "text": [
      "Time:  28.428409679012475\n"
     ]
    },
    {
     "data": {
      "image/png": "[encoded data removed]",
      "text/plain": [
       "<matplotlib.figure.Figure at 0x110b3c30>"
      ]
     },
     "metadata": {},
     "output_type": "display_data"
    }
   ],
   "source": [
    "start = timeit.default_timer()\n",
    "assign_points_to_clusters(clusters)\n",
    "plot_clusters(clusters)\n",
    "update_clusters(clusters)\n",
    "stop = timeit.default_timer()\n",
    "print('Time: ', stop - start) "
   ]
  },
  {
   "cell_type": "code",
   "execution_count": 142,
   "metadata": {},
   "outputs": [
    {
     "name": "stdout",
     "output_type": "stream",
     "text": [
      "Time:  27.978917135802476\n"
     ]
    },
    {
     "data": {
      "image/png": "[encoded data removed]",
      "text/plain": [
       "<matplotlib.figure.Figure at 0x10c015f0>"
      ]
     },
     "metadata": {},
     "output_type": "display_data"
    }
   ],
   "source": [
    "start = timeit.default_timer()\n",
    "assign_points_to_clusters(clusters)\n",
    "plot_clusters(clusters)\n",
    "update_clusters(clusters)\n",
    "stop = timeit.default_timer()\n",
    "print('Time: ', stop - start) "
   ]
  },
  {
   "cell_type": "code",
   "execution_count": null,
   "metadata": {},
   "outputs": [],
   "source": []
  },
  {
   "cell_type": "code",
   "execution_count": null,
   "metadata": {},
   "outputs": [],
   "source": []
  }
 ],
 "metadata": {
  "kernelspec": {
   "display_name": "Python 3",
   "language": "python",
   "name": "python3"
  },
  "language_info": {
   "codemirror_mode": {
    "name": "ipython",
    "version": 3
   },
   "file_extension": ".py",
   "mimetype": "text/x-python",
   "name": "python",
   "nbconvert_exporter": "python",
   "pygments_lexer": "ipython3",
   "version": "3.6.5"
  }
 },
 "nbformat": 4,
 "nbformat_minor": 2
}
