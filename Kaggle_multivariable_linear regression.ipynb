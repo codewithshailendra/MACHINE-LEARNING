{
  "cells": [
    {
      "metadata": {
        "_uuid": "8f2839f25d086af736a60e9eeb907d3b93b6e0e5",
        "_cell_guid": "b1076dfc-b9ad-4769-8c92-a6c4dae69d19",
        "trusted": true
      },
      "cell_type": "code",
      "source": "# This Python 3 environment comes with many helpful analytics libraries installed\n# It is defined by the kaggle/python docker image: https://github.com/kaggle/docker-python\n# For example, here's several helpful packages to load in \n\nimport numpy as np # linear algebra\nimport pandas as pd # data processing, CSV file I/O (e.g. pd.read_csv)\n\n# Input data files are available in the \"../input/\" directory.\n# For example, running this (by clicking run or pressing Shift+Enter) will list the files in the input directory\n\nimport os\nprint(os.listdir(\"../input\"))\n\n# Any results you write to the current directory are saved as output.",
      "execution_count": null,
      "outputs": []
    },
    {
      "metadata": {
        "_cell_guid": "79c7e3d0-c299-4dcb-8224-4455121ee9b0",
        "_uuid": "d629ff2d2480ee46fbb7e2d37f6b5fab8052498a",
        "trusted": true
      },
      "cell_type": "code",
      "source": "import matplotlib.pyplot as plt",
      "execution_count": null,
      "outputs": []
    },
    {
      "metadata": {
        "trusted": true,
        "_uuid": "687f394abfea5c2c70c225d8e7d435622d0ff1e5"
      },
      "cell_type": "code",
      "source": "train_data=pd.read_csv(\"../input/Train.csv\")\ntest_data=pd.read_csv(\"../input/Test.csv\")",
      "execution_count": null,
      "outputs": []
    },
    {
      "metadata": {
        "trusted": true,
        "_uuid": "a70d22f5e8c9adcc8bd38e2d05dd02c24fcc671e"
      },
      "cell_type": "code",
      "source": "print(train_data.shape)\nprint(test_data.shape)",
      "execution_count": null,
      "outputs": []
    },
    {
      "metadata": {
        "trusted": true,
        "_uuid": "e80a9e3bdd967065f7f0f56ca4b4942343d61c4b"
      },
      "cell_type": "code",
      "source": "sample_ans=pd.read_csv(\"../input/Sample_Submission.csv\")\nprint(sample_ans.shape)",
      "execution_count": null,
      "outputs": []
    },
    {
      "metadata": {
        "trusted": true,
        "_uuid": "75305a95714abbd892ffab2f305bf6cb0104240c"
      },
      "cell_type": "code",
      "source": "print(sample_ans.head())",
      "execution_count": null,
      "outputs": []
    },
    {
      "metadata": {
        "trusted": true,
        "_uuid": "3549c0f1c3bc0d7c2637b852349720c02a644de8"
      },
      "cell_type": "code",
      "source": "print(test_data.head())",
      "execution_count": null,
      "outputs": []
    },
    {
      "metadata": {
        "trusted": true,
        "_uuid": "bf42bc12f5320d4312765638138412f7892056d6"
      },
      "cell_type": "code",
      "source": "print(train_data.head())",
      "execution_count": null,
      "outputs": []
    },
    {
      "metadata": {
        "trusted": true,
        "_uuid": "0b74f5897566b0af0561c9aad664694d50238719"
      },
      "cell_type": "code",
      "source": "tr_data=train_data.values",
      "execution_count": null,
      "outputs": []
    },
    {
      "metadata": {
        "trusted": true,
        "_uuid": "586b3b693ef5a25a89965ad8be9905a20c5e1b8b"
      },
      "cell_type": "code",
      "source": "print(type(tr_data))",
      "execution_count": null,
      "outputs": []
    },
    {
      "metadata": {
        "trusted": true,
        "_uuid": "87f21086f6d72ff39c887ff01d3658ab17fc29a8"
      },
      "cell_type": "code",
      "source": "print(tr_data.shape)",
      "execution_count": null,
      "outputs": []
    },
    {
      "metadata": {
        "trusted": true,
        "_uuid": "e07454fb7edce7132a86370d4afcee33ef57e369"
      },
      "cell_type": "code",
      "source": "tr_x=tr_data[:,0:5]\ntr_y=tr_data[:,-1]\nprint(tr_x.shape)\nprint(tr_y.shape)",
      "execution_count": null,
      "outputs": []
    },
    {
      "metadata": {
        "trusted": true,
        "_uuid": "11c40c96b9ebbd2b00bf23b5f933322d7f7c4dcc"
      },
      "cell_type": "code",
      "source": "ts_data=test_data.values\nts_x=ts_data[:,0:5]\nprint(ts_x.shape)",
      "execution_count": null,
      "outputs": []
    },
    {
      "metadata": {
        "trusted": true,
        "_uuid": "064f6f05feb3bb16e7c9a58cb9660d091bf6022b"
      },
      "cell_type": "code",
      "source": "from sklearn.linear_model import LinearRegression",
      "execution_count": null,
      "outputs": []
    },
    {
      "metadata": {
        "trusted": true,
        "_uuid": "8977881efd9e8e3747c36031ee785c773d161df3"
      },
      "cell_type": "code",
      "source": "lr = LinearRegression(normalize=True)",
      "execution_count": null,
      "outputs": []
    },
    {
      "metadata": {
        "trusted": true,
        "_uuid": "5c95ee57a2c0db5cc6e5cfc8ffb1dfe382bf4710"
      },
      "cell_type": "code",
      "source": "lr.fit(tr_x,tr_y)",
      "execution_count": null,
      "outputs": []
    },
    {
      "metadata": {
        "trusted": true,
        "_uuid": "26413f46e1d4be7caa109dcd518b024b8e38eb83"
      },
      "cell_type": "code",
      "source": "print(lr.coef_)\nprint(lr.intercept_)",
      "execution_count": null,
      "outputs": []
    },
    {
      "metadata": {
        "trusted": true,
        "_uuid": "f908e43062920bef73f105e2d3e5e3a4b293ae63"
      },
      "cell_type": "code",
      "source": "print(\"Score of training data is : %0.4f\"%(lr.score(tr_x,tr_y)))",
      "execution_count": null,
      "outputs": []
    },
    {
      "metadata": {
        "trusted": true,
        "_uuid": "38fa374ab378a37790a77a119ae179de2a7b2a6b"
      },
      "cell_type": "code",
      "source": "final_ans=lr.predict(ts_x)",
      "execution_count": null,
      "outputs": []
    },
    {
      "metadata": {
        "trusted": true,
        "_uuid": "54a5430260a311cc569bda11bb32d78b2fe1ee7c"
      },
      "cell_type": "code",
      "source": "#print(final_ans)\nprint(\"Score of training data is : %0.4f\"%(lr.score(ts_x,final_ans)))",
      "execution_count": 84,
      "outputs": [
        {
          "output_type": "stream",
          "text": "Score of training data is : 1.0000\n",
          "name": "stdout"
        }
      ]
    },
    {
      "metadata": {
        "trusted": true,
        "_uuid": "28734fe52db01ebe135926d97a6874b4bdf29513"
      },
      "cell_type": "code",
      "source": "print(final_ans.shape)",
      "execution_count": 85,
      "outputs": [
        {
          "output_type": "stream",
          "text": "(400,)\n",
          "name": "stdout"
        }
      ]
    },
    {
      "metadata": {
        "trusted": true,
        "_uuid": "8f78a9a559b1ed993fe3a1d00ce67ef2ae392679"
      },
      "cell_type": "code",
      "source": "ans_matrix=np.zeros([final_ans.shape[0],1])",
      "execution_count": 86,
      "outputs": []
    },
    {
      "metadata": {
        "trusted": true,
        "_uuid": "19445ffc265a21161a593bbda115fcee37d293b1"
      },
      "cell_type": "code",
      "source": "print(ans_matrix.shape)",
      "execution_count": 87,
      "outputs": [
        {
          "output_type": "stream",
          "text": "(400, 1)\n",
          "name": "stdout"
        }
      ]
    },
    {
      "metadata": {
        "trusted": true,
        "_uuid": "ba9206c72b91b2d07d0ef18f1bacf3099768525b"
      },
      "cell_type": "code",
      "source": "for i in range(400):\n    ans_matrix[i]=final_ans[i]",
      "execution_count": 88,
      "outputs": []
    },
    {
      "metadata": {
        "trusted": true,
        "_uuid": "5e3f670a948e21e708d4af8515f9a976893f2cb9"
      },
      "cell_type": "code",
      "source": "print(ans_matrix)",
      "execution_count": 89,
      "outputs": [
        {
          "output_type": "stream",
          "text": "[[ 1.14583689e+02]\n [ 1.18012815e+02]\n [-2.17398523e+01]\n [-4.39368985e+01]\n [-9.59148984e+01]\n [-4.45074240e+01]\n [-7.55665260e+01]\n [ 2.38208355e+01]\n [ 1.73835284e+02]\n [ 1.72849290e+02]\n [-1.05402312e+02]\n [-2.08020234e+01]\n [-3.91323777e+00]\n [ 1.22999186e+02]\n [ 4.03078842e+01]\n [ 4.57128495e+01]\n [-1.89628491e+02]\n [ 2.26125454e+01]\n [ 1.16410473e+01]\n [ 1.36342143e+02]\n [ 6.49162552e+01]\n [-6.19884884e+01]\n [-1.08194679e+02]\n [-7.41212747e+00]\n [-5.85239528e+01]\n [ 1.18889777e+01]\n [ 2.92376400e+01]\n [ 1.07687579e+02]\n [ 2.41468563e+01]\n [-2.61050120e+01]\n [ 1.10968076e+02]\n [-4.48797096e+01]\n [ 2.16799939e+02]\n [-1.38606052e+01]\n [-2.28603182e+02]\n [ 1.54896021e+02]\n [-2.22583390e+00]\n [ 1.27230344e+01]\n [-3.08307877e+02]\n [ 7.71107583e+01]\n [-8.12079177e+01]\n [-2.06632925e+02]\n [-2.38762881e+02]\n [ 1.34757365e+02]\n [-7.37514777e+01]\n [ 1.05463702e+02]\n [-3.59074927e+00]\n [ 2.06043839e+01]\n [-9.80187354e+01]\n [-2.75169049e+01]\n [ 1.08159001e+01]\n [-1.74463534e+02]\n [ 6.51557518e+01]\n [-9.78063844e+01]\n [-1.06151855e+02]\n [-1.55942178e+02]\n [ 6.25361032e+01]\n [ 1.08628991e+02]\n [-7.46103422e+01]\n [ 4.17396380e+01]\n [ 4.12242983e+01]\n [-5.08043007e+01]\n [ 1.64887262e+02]\n [ 4.35635985e+01]\n [ 5.69371401e+01]\n [ 2.41211334e+01]\n [ 8.16773838e+01]\n [-1.80304316e+00]\n [-3.09735011e+00]\n [ 1.80977272e+00]\n [-2.39397288e+01]\n [ 1.61874720e+02]\n [-4.10129899e+01]\n [ 2.15560701e+01]\n [-6.64305442e+01]\n [-6.92710146e+01]\n [ 3.69986169e+01]\n [-1.60490354e+02]\n [-1.76152673e+00]\n [ 1.51309319e+02]\n [-3.80218327e+01]\n [-1.20320688e+02]\n [-1.94436345e+02]\n [ 3.64493852e+01]\n [ 1.46425717e+02]\n [ 2.71429735e+02]\n [-2.56998804e+02]\n [-8.85512683e+01]\n [ 7.62607756e+01]\n [-8.99426453e+01]\n [-4.94099238e+01]\n [ 1.25588303e+02]\n [-1.63891147e+02]\n [-1.16823341e+02]\n [ 4.87104404e+01]\n [ 9.81684061e+01]\n [-2.15581459e+02]\n [-1.21288951e+02]\n [-1.72346819e+02]\n [-5.12594130e+01]\n [ 1.27991975e+02]\n [-8.38947004e+01]\n [-3.93355710e+00]\n [-1.45819362e+00]\n [ 6.87157159e-02]\n [ 8.07263279e+01]\n [ 4.45095525e+01]\n [ 9.24525606e+01]\n [-3.02937078e+01]\n [-8.41409462e+01]\n [ 3.86056584e+01]\n [ 1.82850652e+01]\n [ 1.17401859e+02]\n [ 7.70873241e+00]\n [ 7.35667699e+01]\n [ 3.27250659e+01]\n [-1.42403921e+02]\n [ 7.21277669e+00]\n [ 2.10140289e+01]\n [-2.27889032e+01]\n [-2.11981550e+01]\n [-2.55771207e+02]\n [ 2.67437280e+02]\n [ 1.55039195e+02]\n [ 1.43417317e+01]\n [ 8.35124515e+01]\n [-1.21442232e+01]\n [-1.53097324e+02]\n [ 1.12393595e+02]\n [-3.20459035e+01]\n [-2.16024763e+02]\n [ 1.21057697e+02]\n [-2.98930911e+01]\n [-8.68348066e+01]\n [ 1.70724468e+02]\n [ 3.91922861e+01]\n [-1.93300026e+01]\n [ 6.17641657e+01]\n [ 4.60812147e+01]\n [-1.75029471e+02]\n [ 1.30155609e+02]\n [-7.28071887e+01]\n [ 2.12090398e+02]\n [ 1.35346245e+02]\n [ 2.30097434e-01]\n [-1.53844667e+02]\n [-1.48709586e+01]\n [ 1.33660081e+02]\n [ 3.59628027e+01]\n [ 5.77045854e+01]\n [-4.36552160e+00]\n [-4.31110458e+01]\n [ 1.77217405e+01]\n [-6.97051989e+01]\n [ 2.85463704e+01]\n [ 1.41994072e+02]\n [ 3.46823799e+02]\n [ 2.16924179e+02]\n [ 2.78162767e+01]\n [-3.77390624e+01]\n [-1.71397275e+02]\n [ 1.28961678e+01]\n [ 2.98607728e+02]\n [ 7.56384285e+01]\n [-2.21090992e+01]\n [ 1.55678418e+02]\n [-1.55694869e+02]\n [ 1.41408003e+02]\n [ 1.71079952e+02]\n [-4.69490852e+01]\n [ 6.55777840e+01]\n [ 9.72533920e+01]\n [ 9.49267603e+01]\n [ 3.18715034e+01]\n [ 1.74337052e+02]\n [-1.51155108e+02]\n [-9.43342846e+01]\n [-1.69777111e+02]\n [-1.82969143e+01]\n [-1.07277796e+02]\n [-1.41266108e+01]\n [-5.88120172e+01]\n [-7.50832380e+01]\n [ 6.73587271e+01]\n [-6.89703478e+01]\n [ 8.88318631e+01]\n [-5.70948342e+01]\n [-1.09741255e+02]\n [-7.77833544e+01]\n [ 1.85629304e+02]\n [-4.14282206e+01]\n [ 2.19635522e+02]\n [-5.66172847e+01]\n [-8.36222525e+01]\n [ 4.73238005e+01]\n [ 6.26076531e-01]\n [ 7.13821511e+01]\n [-6.06639903e+01]\n [ 2.09659127e+02]\n [-1.38637055e+02]\n [-9.68478030e+01]\n [-1.15583978e+02]\n [ 2.49654102e+01]\n [ 5.42952400e+01]\n [ 1.50502762e+02]\n [ 4.68983224e+01]\n [ 9.19854966e+01]\n [ 1.73013101e+02]\n [-2.70553209e+02]\n [-1.73857397e+02]\n [-1.05304177e+02]\n [-8.25142264e+01]\n [ 2.90802473e+01]\n [-5.03321805e+01]\n [ 7.80970160e+01]\n [-2.01979151e+01]\n [-5.22163204e+01]\n [-2.86307739e+01]\n [ 6.56560573e+01]\n [ 9.17307327e+01]\n [-8.26675481e+01]\n [-1.48460926e+02]\n [ 4.86777092e+01]\n [ 2.38567646e+02]\n [-4.86998996e+01]\n [ 1.57631321e+01]\n [-6.19899690e+01]\n [ 1.31485707e+01]\n [ 1.00289512e+01]\n [ 3.99646084e+01]\n [ 1.15958615e+02]\n [ 1.86669503e+01]\n [-1.07329942e+02]\n [ 4.67695594e+01]\n [ 1.00039959e+02]\n [-8.87533938e+01]\n [-1.74694218e+02]\n [ 1.69478147e+02]\n [ 1.09352799e+02]\n [ 6.20899161e+01]\n [-8.54397834e+00]\n [-2.48564441e+01]\n [-4.77166394e+01]\n [-1.71011355e+02]\n [-6.50008843e+01]\n [-2.77481804e+01]\n [-1.71402598e+02]\n [-2.82093276e+01]\n [ 3.43188175e+01]\n [-1.21610783e+02]\n [ 1.74264374e+01]\n [-7.73081929e-01]\n [-2.54182308e+02]\n [-2.53529253e+02]\n [-1.65878766e+02]\n [ 4.67111041e+01]\n [ 1.31612022e+02]\n [ 7.07816400e+01]\n [ 1.19875914e+02]\n [ 9.38430102e+01]\n [ 2.21288003e+01]\n [-3.06145032e+02]\n [ 1.87134675e+02]\n [-1.30086933e+02]\n [-4.39017442e+01]\n [-8.48294430e+01]\n [-8.75139738e+01]\n [ 1.37064206e+02]\n [ 1.62663114e+02]\n [-4.04306781e+01]\n [-1.42315693e+02]\n [ 1.13295414e+02]\n [-1.98162283e+01]\n [ 8.81663869e+01]\n [ 1.05992718e+02]\n [ 2.53000074e+01]\n [-5.08837521e+01]\n [-2.69524817e+01]\n [ 3.01092851e+01]\n [ 7.38938849e+01]\n [ 2.83608166e+01]\n [-1.28416330e+02]\n [-1.52776301e+01]\n [-1.10374437e+01]\n [-1.26794785e+02]\n [ 1.62120112e+02]\n [-1.00838833e+01]\n [-1.33336316e+02]\n [ 2.06450695e+02]\n [ 4.88376450e+01]\n [ 9.32013696e+01]\n [ 3.13905901e+01]\n [ 2.07038229e+02]\n [-3.89970195e+01]\n [-3.07289410e+01]\n [-4.01751698e+01]\n [ 5.23598108e+01]\n [-6.24040563e+01]\n [ 9.36382324e+01]\n [-8.42914985e+01]\n [-9.55313843e+01]\n [-2.43804958e+01]\n [-8.98079279e+01]\n [-2.31749011e+01]\n [ 5.96648383e+01]\n [-3.24313782e+01]\n [-7.40946220e+01]\n [-1.79732441e+02]\n [-1.63685038e+02]\n [ 4.11883520e+01]\n [ 8.02784922e+01]\n [ 3.01577804e+02]\n [ 1.28554327e+02]\n [ 1.30832988e+02]\n [ 5.25149254e+01]\n [-2.12873997e+01]\n [ 1.83267572e+02]\n [-5.88757862e+01]\n [ 1.29469597e+02]\n [ 1.52655487e+02]\n [-3.33223694e+01]\n [-2.02138568e+02]\n [-9.88606794e+01]\n [ 4.34312192e+00]\n [-4.48044373e+01]\n [-3.78196288e+01]\n [ 1.57823714e+02]\n [ 1.34014627e+02]\n [ 2.50245556e+01]\n [-8.84390602e+01]\n [ 1.87246379e+02]\n [-6.54536233e+01]\n [ 6.55402344e+01]\n [ 8.03561819e+01]\n [ 9.88057301e+01]\n [-1.05254566e+02]\n [ 1.14404232e+02]\n [-3.49199136e+01]\n [ 8.86094632e+01]\n [-8.33695266e+01]\n [-2.02231114e+02]\n [ 1.58221478e+02]\n [-9.31481791e+01]\n [ 6.59816387e+01]\n [ 1.25513068e+02]\n [ 3.07073555e+01]\n [-1.75221035e+02]\n [-3.37049758e+01]\n [-4.79594491e+01]\n [-1.17026015e+02]\n [ 1.22681657e+01]\n [-8.81417151e+01]\n [-3.89840106e+01]\n [-1.63414696e+02]\n [-2.18465652e+02]\n [ 5.51305633e+00]\n [-2.05947839e+02]\n [ 1.85721065e+02]\n [-9.25001204e+00]\n [ 1.80720271e+01]\n [ 3.27977960e+01]\n [ 2.41092423e+02]\n [-2.73852965e+01]\n [ 1.34032356e+02]\n [ 5.73968795e+01]\n [ 1.05388596e+01]\n [-8.65082599e+01]\n [-9.65674714e+00]\n [ 2.23430526e+02]\n [-1.47055341e+01]\n [-1.37921702e+02]\n [-5.05147716e+01]\n [-9.36793798e+01]\n [ 8.81628163e+00]\n [-1.46040269e+01]\n [-6.28519967e+01]\n [-1.64655543e+01]\n [-1.72962640e+02]\n [-1.22791775e+02]\n [ 4.52738982e+01]\n [-3.73099314e+01]\n [-1.57438494e+02]\n [ 8.74983858e+01]\n [-3.20726424e-01]\n [ 1.33257842e+02]\n [-4.71722088e+01]\n [ 2.57466116e+00]\n [ 1.74227519e+02]\n [ 1.70930081e+02]\n [ 4.64333575e+01]\n [-2.67206510e+01]\n [ 5.96322523e+01]\n [ 1.11659113e+02]\n [-3.65027668e+01]\n [-6.91390527e+01]\n [-8.19890004e+01]\n [-1.86032535e+02]\n [ 1.25292336e+02]\n [ 6.53698407e+01]\n [ 5.70596907e+01]]\n",
          "name": "stdout"
        }
      ]
    },
    {
      "metadata": {
        "trusted": true,
        "_uuid": "8f1d35e71eb8fe450e0e7ff94412dcb4086411e1"
      },
      "cell_type": "code",
      "source": "df=pd.DataFrame(ans_matrix)",
      "execution_count": 90,
      "outputs": []
    },
    {
      "metadata": {
        "trusted": true,
        "_uuid": "61fac4450bc2a21df636e8bfee4a0cd39d88a931"
      },
      "cell_type": "code",
      "source": "from IPython.display import HTML\nimport pandas as pd\nimport numpy as np\nimport base64\n\n# function that takes in a dataframe and creates a text link to  \n# download it (will only work for files < 2MB or so)\ndef create_download_link(df, title = \"Download CSV file\", filename = \"data.csv\"):  \n    csv = df.to_csv()\n    b64 = base64.b64encode(csv.encode())\n    payload = b64.decode()\n    html = '<a download=\"{filename}\" href=\"data:text/csv;base64,{payload}\" target=\"_blank\">{title}</a>'\n    html = html.format(payload=payload,title=title,filename=filename)\n    return HTML(html)\n\n# create a random sample dataframe\ndf = pd.DataFrame(np.random.randn(400, 1), columns=list('A'))\n\n# create a link to download the dataframe\ncreate_download_link(df)\n\n# ↓ ↓ ↓  Yay, download link! ↓ ↓ ↓ ",
      "execution_count": null,
      "outputs": []
    },
    {
      "metadata": {
        "trusted": true,
        "_uuid": "eafbe4d9b68863aa58d06762c5e2d54b0c9078c3"
      },
      "cell_type": "code",
      "source": "",
      "execution_count": null,
      "outputs": []
    }
  ],
  "metadata": {
    "kernelspec": {
      "display_name": "Python 3",
      "language": "python",
      "name": "python3"
    },
    "language_info": {
      "name": "python",
      "version": "3.6.6",
      "mimetype": "text/x-python",
      "codemirror_mode": {
        "name": "ipython",
        "version": 3
      },
      "pygments_lexer": "ipython3",
      "nbconvert_exporter": "python",
      "file_extension": ".py"
    }
  },
  "nbformat": 4,
  "nbformat_minor": 1
}