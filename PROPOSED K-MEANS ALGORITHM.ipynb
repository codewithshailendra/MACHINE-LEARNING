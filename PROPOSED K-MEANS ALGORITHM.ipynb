{
 "cells": [
  {
   "cell_type": "code",
   "execution_count": 1,
   "metadata": {},
   "outputs": [],
   "source": [
    "import numpy as np\n",
    "import matplotlib.pyplot as plt"
   ]
  },
  {
   "cell_type": "markdown",
   "metadata": {},
   "source": [
    "#### data preparation"
   ]
  },
  {
   "cell_type": "code",
   "execution_count": 2,
   "metadata": {},
   "outputs": [],
   "source": [
    "x=np.zeros((6,2))\n",
    "x[0][0]=185\n",
    "x[0][1]=72\n",
    "x[1][0]=170\n",
    "x[1][1]=56\n",
    "x[2][0]=168\n",
    "x[2][1]=60\n",
    "x[3][0]=179\n",
    "x[3][1]=68\n",
    "x[4][0]=182\n",
    "x[4][1]=72\n",
    "x[5][0]=188\n",
    "x[5][1]=77"
   ]
  },
  {
   "cell_type": "code",
   "execution_count": 3,
   "metadata": {},
   "outputs": [
    {
     "name": "stdout",
     "output_type": "stream",
     "text": [
      "[[185.  72.]\n",
      " [170.  56.]\n",
      " [168.  60.]\n",
      " [179.  68.]\n",
      " [182.  72.]\n",
      " [188.  77.]]\n"
     ]
    }
   ],
   "source": [
    "print(x)"
   ]
  },
  {
   "cell_type": "code",
   "execution_count": 4,
   "metadata": {},
   "outputs": [
    {
     "data": {
      "text/plain": [
       "(6, 2)"
      ]
     },
     "execution_count": 4,
     "metadata": {},
     "output_type": "execute_result"
    }
   ],
   "source": [
    "x.shape"
   ]
  },
  {
   "cell_type": "code",
   "execution_count": 5,
   "metadata": {},
   "outputs": [
    {
     "data": {
      "image/png": "[encoded data removed]",
      "text/plain": [
       "<matplotlib.figure.Figure at 0xb92a8f0>"
      ]
     },
     "metadata": {},
     "output_type": "display_data"
    }
   ],
   "source": [
    "plt.scatter(x[:,0],x[:,1])\n",
    "plt.show()"
   ]
  },
  {
   "cell_type": "markdown",
   "metadata": {},
   "source": [
    "##### sorting of data using heap sort acording to their Y coordinate."
   ]
  },
  {
   "cell_type": "code",
   "execution_count": 6,
   "metadata": {},
   "outputs": [],
   "source": [
    "def heapsort( aList ):\n",
    "  # convert aList to heap\n",
    "  length = len( aList ) - 1\n",
    "  leastParent = length / 2\n",
    "  for i in range ( leastParent, -1, -1 ):\n",
    "    moveDown( aList, i, length )\n",
    " \n",
    "  # flatten heap into sorted array\n",
    "  for i in range ( length, 0, -1 ):\n",
    "    if aList[0] > aList[i]:\n",
    "      swap( aList, 0, i )\n",
    "      moveDown( aList, 0, i - 1 )\n",
    " \n",
    " \n",
    "def moveDown( aList, first, last ):\n",
    "  largest = 2 * first + 1\n",
    "  while largest <= last:\n",
    "    # right child exists and is larger than left child\n",
    "    if ( largest < last ) and ( aList[largest] < aList[largest + 1] ):\n",
    "      largest += 1\n",
    " \n",
    "    # right child is larger than parent\n",
    "    if aList[largest] > aList[first]:\n",
    "      swap( aList, largest, first )\n",
    "      # move down to largest child\n",
    "      first = largest;\n",
    "      largest = 2 * first + 1\n",
    "    else:\n",
    "      return # force exit\n",
    " \n",
    " \n",
    "def swap( A, x, y ):\n",
    "  tmp = A[x]\n",
    "  A[x] = A[y]\n",
    "  A[y] = tmp"
   ]
  },
  {
   "cell_type": "code",
   "execution_count": 7,
   "metadata": {},
   "outputs": [],
   "source": [
    "x[:,1].sort()"
   ]
  },
  {
   "cell_type": "code",
   "execution_count": 8,
   "metadata": {},
   "outputs": [
    {
     "name": "stdout",
     "output_type": "stream",
     "text": [
      "[[185.  56.]\n",
      " [170.  60.]\n",
      " [168.  68.]\n",
      " [179.  72.]\n",
      " [182.  72.]\n",
      " [188.  77.]]\n"
     ]
    }
   ],
   "source": [
    "print(x)"
   ]
  },
  {
   "cell_type": "code",
   "execution_count": 11,
   "metadata": {},
   "outputs": [],
   "source": [
    "%matplotlib inline\n",
    "import time\n",
    "import hashlib\n",
    "import scipy\n",
    "import matplotlib.pyplot as plt\n",
    "import pandas as pd\n",
    "import numpy as np\n",
    "from sklearn.cluster import KMeans\n",
    "from sklearn.datasets.samples_generator import make_blobs\n",
    "\n",
    "\n",
    "def optimalK(data, nrefs=3, maxClusters=15):\n",
    "    \"\"\"\n",
    "    Calculates KMeans optimal K using Gap Statistic from Tibshirani, Walther, Hastie\n",
    "    Params:\n",
    "        data: ndarry of shape (n_samples, n_features)\n",
    "        nrefs: number of sample reference datasets to create\n",
    "        maxClusters: Maximum number of clusters to test for\n",
    "    Returns: (gaps, optimalK)\n",
    "    \"\"\"\n",
    "    gaps = np.zeros((len(range(1, maxClusters)),))\n",
    "    resultsdf = pd.DataFrame({'clusterCount':[], 'gap':[]})\n",
    "    for gap_index, k in enumerate(range(1, maxClusters)):\n",
    "\n",
    "        # Holder for reference dispersion results\n",
    "        refDisps = np.zeros(nrefs)\n",
    "\n",
    "        # For n references, generate random sample and perform kmeans getting resulting dispersion of each loop\n",
    "        for i in range(nrefs):\n",
    "            \n",
    "            # Create new random reference set\n",
    "            randomReference = np.random.random_sample(size=data.shape)\n",
    "            \n",
    "            # Fit to it\n",
    "            km = KMeans(k)\n",
    "            km.fit(randomReference)\n",
    "            \n",
    "            refDisp = km.inertia_\n",
    "            refDisps[i] = refDisp\n",
    "\n",
    "        # Fit cluster to original data and create dispersion\n",
    "        km = KMeans(k)\n",
    "        km.fit(data)\n",
    "        \n",
    "        origDisp = km.inertia_\n",
    "\n",
    "        # Calculate gap statistic\n",
    "        gap = np.log(np.mean(refDisps)) - np.log(origDisp)\n",
    "        \n",
    "        # Assign this loop's gap statistic to gaps\n",
    "        gaps[gap_index] = gap\n",
    "        \n",
    "        resultsdf = resultsdf.append({'clusterCount':k, 'gap':gap}, ignore_index=True)\n",
    "\n",
    "    return (gaps.argmax() + 1, resultsdf)  # Plus 1 because index of 0 means 1 cluster is optimal, index 2 = 3 clusters are optimal"
   ]
  },
  {
   "cell_type": "code",
   "execution_count": 25,
   "metadata": {},
   "outputs": [
    {
     "name": "stdout",
     "output_type": "stream",
     "text": [
      "2\n"
     ]
    }
   ],
   "source": [
    "k, gapdf = optimalK(x, nrefs=5, maxClusters=5)\n",
    "print(k)"
   ]
  },
  {
   "cell_type": "code",
   "execution_count": 26,
   "metadata": {},
   "outputs": [],
   "source": [
    "centers=[]\n",
    "\n",
    "for i in range(k,x.shape[0]-k):\n",
    "    centers.append(x[i]);\n",
    "    "
   ]
  },
  {
   "cell_type": "code",
   "execution_count": 28,
   "metadata": {},
   "outputs": [
    {
     "name": "stdout",
     "output_type": "stream",
     "text": [
      "[array([168.,  68.]), array([179.,  72.])]\n"
     ]
    }
   ],
   "source": [
    "print(centers) # coordinates  of the assigned centroid."
   ]
  },
  {
   "cell_type": "code",
   "execution_count": 35,
   "metadata": {},
   "outputs": [
    {
     "data": {
      "text/plain": [
       "{0: {'center': array([168.,  68.]), 'points': [], 'colour': 'green'},\n",
       " 1: {'center': array([179.,  72.]), 'points': [], 'colour': 'red'}}"
      ]
     },
     "execution_count": 35,
     "metadata": {},
     "output_type": "execute_result"
    }
   ],
   "source": [
    "color=['green','red','blue','yellow','orange']\n",
    "\n",
    "clusters={}\n",
    "\n",
    "for i in range(k):\n",
    "    #center = 10*(2*np.random.random((x.shape[1],))-1)\n",
    "    points=[]\n",
    "    \n",
    "    cluster={\n",
    "         'center':centers[i],\n",
    "         'points' :points,\n",
    "         'colour':color[i]\n",
    "        \n",
    "    }\n",
    "    \n",
    "    clusters[i]=cluster\n",
    "    \n",
    "clusters"
   ]
  },
  {
   "cell_type": "code",
   "execution_count": 36,
   "metadata": {},
   "outputs": [],
   "source": [
    "def distance(v1,v2):\n",
    "    return np.sqrt(np.sum((v1-v2)**2))"
   ]
  },
  {
   "cell_type": "code",
   "execution_count": 37,
   "metadata": {},
   "outputs": [],
   "source": [
    "# assigning points to clusters(E-step of expectation maximization problem)\n",
    "# K-Means is the special case of expectation maximization problem\n",
    "def assign_points_to_clusters(clusters):\n",
    "    # iterating in every cluster\n",
    "    for i in range(x.shape[0]):\n",
    "        dist_of_this_point_from_every_cluster_center = []\n",
    "        current_point=x[i]\n",
    "    \n",
    "    # now iterating in every cluster\n",
    "        for kx in range(k):\n",
    "            distance_from_center=distance(current_point,clusters[kx]['center'])\n",
    "            dist_of_this_point_from_every_cluster_center.append(distance_from_center)\n",
    "        \n",
    "        current_cluster=np.argmin(dist_of_this_point_from_every_cluster_center)\n",
    "        clusters[current_cluster]['points'].append(current_point)\n",
    "        #print(clusters[current_cluster]['points'])\n",
    "\n",
    "        \n",
    "    \n",
    "    "
   ]
  },
  {
   "cell_type": "code",
   "execution_count": 38,
   "metadata": {},
   "outputs": [
    {
     "name": "stdout",
     "output_type": "stream",
     "text": [
      "6\n"
     ]
    }
   ],
   "source": [
    "assign_points_to_clusters(clusters)\n",
    "print(x.shape[0])"
   ]
  },
  {
   "cell_type": "code",
   "execution_count": 39,
   "metadata": {},
   "outputs": [],
   "source": [
    "def updateClusters(clusters):   # M-step -> we update every cluster center acording to mean of the cluster\n",
    "    \n",
    "    for kx in range(k):\n",
    "        pts=np.array(clusters[kx]['points'])\n",
    "        \n",
    "        if pts.shape[0]>0:\n",
    "            new_center = pts.mean(axis=0)\n",
    "            clusters[kx]['center']=new_center\n",
    "            clusters[kx]['points']=[]\n",
    "\n",
    "\n",
    "\n",
    "def plotclusters(clusters):\n",
    "    \n",
    "    for kx in range(k):\n",
    "        #print(type(clusters[kx]['points']))\n",
    "        #print(len(clusters[kx]['points']))\n",
    "        \n",
    "        pts = np.array(clusters[kx]['points'])\n",
    "        \n",
    "        try:\n",
    "            plt.scatter(pts[:,0],pts[:,1],color=clusters[kx]['colour'])\n",
    "        except:\n",
    "            pass\n",
    "        \n",
    "        uk=clusters[kx]['center']\n",
    "        plt.scatter(uk[0],uk[1],color='black',marker=\"*\")\n",
    "    \n",
    "\n",
    "    "
   ]
  },
  {
   "cell_type": "code",
   "execution_count": 40,
   "metadata": {},
   "outputs": [
    {
     "data": {
      "image/png": "[encoded data removed]",
      "text/plain": [
       "<matplotlib.figure.Figure at 0xe86bab0>"
      ]
     },
     "metadata": {},
     "output_type": "display_data"
    }
   ],
   "source": [
    "plotclusters(clusters)"
   ]
  },
  {
   "cell_type": "code",
   "execution_count": 43,
   "metadata": {},
   "outputs": [
    {
     "data": {
      "image/png": "[encoded data removed]",
      "text/plain": [
       "<matplotlib.figure.Figure at 0xe913850>"
      ]
     },
     "metadata": {},
     "output_type": "display_data"
    }
   ],
   "source": [
    "# JUst one iteration to test stability\n",
    "assign_points_to_clusters(clusters)\n",
    "plotclusters(clusters)\n",
    "updateClusters(clusters)"
   ]
  },
  {
   "cell_type": "code",
   "execution_count": 44,
   "metadata": {},
   "outputs": [
    {
     "data": {
      "image/png": "[encoded data removed]",
      "text/plain": [
       "<matplotlib.figure.Figure at 0xe952670>"
      ]
     },
     "metadata": {},
     "output_type": "display_data"
    }
   ],
   "source": [
    "# JUst one iteration to test stability\n",
    "assign_points_to_clusters(clusters)\n",
    "plotclusters(clusters)\n",
    "updateClusters(clusters)"
   ]
  },
  {
   "cell_type": "code",
   "execution_count": 45,
   "metadata": {},
   "outputs": [
    {
     "data": {
      "image/png": "[encoded data removed]",
      "text/plain": [
       "<matplotlib.figure.Figure at 0xe95a4d0>"
      ]
     },
     "metadata": {},
     "output_type": "display_data"
    }
   ],
   "source": [
    "# JUst one iteration to test stability\n",
    "assign_points_to_clusters(clusters)\n",
    "plotclusters(clusters)\n",
    "updateClusters(clusters)"
   ]
  },
  {
   "cell_type": "markdown",
   "metadata": {},
   "source": [
    "#### Centroids are shown by black stars after stability"
   ]
  },
  {
   "cell_type": "code",
   "execution_count": null,
   "metadata": {},
   "outputs": [],
   "source": []
  },
  {
   "cell_type": "code",
   "execution_count": null,
   "metadata": {},
   "outputs": [],
   "source": []
  }
 ],
 "metadata": {
  "kernelspec": {
   "display_name": "Python 3",
   "language": "python",
   "name": "python3"
  },
  "language_info": {
   "codemirror_mode": {
    "name": "ipython",
    "version": 3
   },
   "file_extension": ".py",
   "mimetype": "text/x-python",
   "name": "python",
   "nbconvert_exporter": "python",
   "pygments_lexer": "ipython3",
   "version": "3.6.5"
  }
 },
 "nbformat": 4,
 "nbformat_minor": 2
}
