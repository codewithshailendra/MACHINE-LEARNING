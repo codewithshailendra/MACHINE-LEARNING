{
 "cells": [
  {
   "cell_type": "code",
   "execution_count": 1,
   "metadata": {},
   "outputs": [],
   "source": [
    "# step 1 Input image: this is underwater image.\n",
    "# step 2 Apply white balance to the input image, the obtained image is the first input of the fusion process, suppose the obtained image is img1.\n",
    "# step 3 Apply temporal coherent noise reduction method to img1 to obtain another input of fusion image, suppose this image is img2, which is obtained by local adaptive histogram equalization\n",
    "# step 4 Obtain the weights of these two inputs. 4 types of weights are to be found for both of these images.\n",
    " #       Laplacian contrast weight\n",
    " #      Local Contrast weight\n",
    " #      Saliency weight\n",
    " #      Exposedness weight\n",
    "\n",
    "# step 5 Finally, the multi-scale fusion process is applied to generate the restored image. This step consists of following step:\n",
    "  #   Gaussian pyramid decomposition for weight maps.\n",
    "  #   Laplacian pyramid decomposition \n",
    "  #   pyramid reconstruct\n",
    "  #   FilterMask\n",
    "\n",
    "# step 6 Fusion process\n"
   ]
  },
  {
   "cell_type": "code",
   "execution_count": 23,
   "metadata": {},
   "outputs": [],
   "source": [
    "# color balancing using histogram normalisation.\n",
    "# colourful image  and the percentage of pixels to clip to white and black(normally (1,10)).\n",
    "# this functions returns the color_balanced image.\n",
    "\n",
    "from PIL import Image\n",
    "import cv2\n",
    "import numpy as np\n",
    "\n",
    "\n",
    "def color_balance(img,percent):\n",
    "    if percent<=0:\n",
    "        percent=5 # taken as an average of (1-10).\n",
    "        \n",
    "    rows=img.shape[0]\n",
    "    cols=img.shape[1]\n",
    "    no_of_chanl=img.shape[2] # knowing the no. of channels in the present image\n",
    "    \n",
    "    halfpercent = percent/200.0 # halving the given percentage based on the given research paper\n",
    "    \n",
    "    channels=[] # list for storing all the present channels of the image separately.\n",
    "    \n",
    "    if no_of_chanl==3:\n",
    "        for i in range(3):\n",
    "            channels.append(img[:,:,i:i+1]) # add all the present channels of the image to this list separately\n",
    "    else:\n",
    "        channels.append(img)\n",
    "        \n",
    "    results=[]\n",
    "    \n",
    "    for i in range(no_of_chanl):\n",
    "        #print(channels[i].shape)\n",
    "        plane=channels[i].reshape(1,rows*cols,1)\n",
    "        plane.sort()\n",
    "        lower_value= plane[0][int(plane.shape[1]*halfpercent)][0]\n",
    "        top_value = plane[0][int(plane.shape[1]*(1-halfpercent))][0]\n",
    "        \n",
    "        channel = channels[i]\n",
    "        \n",
    "        for p in range(rows):\n",
    "            for q in range(cols):\n",
    "                if channel[p][q][0] < lower_value :\n",
    "                    channel[p][q][0]=lower_value\n",
    "                if channel[p][q][0] < top_value :\n",
    "                    channel[p][q][0]=top_value\n",
    "        \n",
    "        channel=cv2.normalize(channel,None,0.0,255.0/2,cv2.NORM_MINMAX)\n",
    "        # convert the image in desired format-converted\n",
    "        \n",
    "        results.append(channel)\n",
    "        \n",
    "    output_image = np.zeros((rows,cols,3))\n",
    "    for x in results:\n",
    "        cv2.imshow('image',x)\n",
    "        cv2.waitKey(0)\n",
    "        cv2.destroyAllWindows()\n",
    "    output_image=cv2.merge(results)\n",
    "    return output_image\n",
    "        \n",
    "                    \n",
    "                    \n",
    "        \n",
    "        \n",
    "        \n",
    "    \n",
    "        \n",
    "        \n",
    "\n"
   ]
  },
  {
   "cell_type": "code",
   "execution_count": 28,
   "metadata": {},
   "outputs": [
    {
     "name": "stdout",
     "output_type": "stream",
     "text": [
      "<class 'numpy.ndarray'>\n"
     ]
    }
   ],
   "source": [
    "img = cv2.imread(\"G:/54429358_369579283646633_9215797332648625036_n.jpg\")\n",
    "cv2.imshow('original_image',img)\n",
    "cv2.waitKey(0)\n",
    "cv2.destroyAllWindows()\n",
    "print(type(img))\n",
    "percent=100.0\n",
    "final_image= color_balance(img,percent)\n",
    "cv2.imshow('image',final_image)\n",
    "cv2.waitKey(0)\n",
    "cv2.destroyAllWindows()"
   ]
  },
  {
   "cell_type": "code",
   "execution_count": null,
   "metadata": {},
   "outputs": [],
   "source": []
  },
  {
   "cell_type": "code",
   "execution_count": null,
   "metadata": {},
   "outputs": [],
   "source": []
  },
  {
   "cell_type": "code",
   "execution_count": null,
   "metadata": {},
   "outputs": [],
   "source": []
  }
 ],
 "metadata": {
  "kernelspec": {
   "display_name": "Python 3",
   "language": "python",
   "name": "python3"
  },
  "language_info": {
   "codemirror_mode": {
    "name": "ipython",
    "version": 3
   },
   "file_extension": ".py",
   "mimetype": "text/x-python",
   "name": "python",
   "nbconvert_exporter": "python",
   "pygments_lexer": "ipython3",
   "version": "3.6.5"
  }
 },
 "nbformat": 4,
 "nbformat_minor": 2
}
